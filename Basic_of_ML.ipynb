{
  "nbformat": 4,
  "nbformat_minor": 0,
  "metadata": {
    "colab": {
      "provenance": [],
      "authorship_tag": "ABX9TyN3BwdadpcHa43CuXmJm3lW",
      "include_colab_link": true
    },
    "kernelspec": {
      "name": "python3",
      "display_name": "Python 3"
    },
    "language_info": {
      "name": "python"
    }
  },
  "cells": [
    {
      "cell_type": "markdown",
      "metadata": {
        "id": "view-in-github",
        "colab_type": "text"
      },
      "source": [
        "<a href=\"https://colab.research.google.com/github/mahekgheewala/Numpy_array/blob/main/Basic_of_ML.ipynb\" target=\"_parent\"><img src=\"https://colab.research.google.com/assets/colab-badge.svg\" alt=\"Open In Colab\"/></a>"
      ]
    },
    {
      "cell_type": "markdown",
      "source": [
        "Numpy- Numerical Python\n",
        "\n",
        "Advantages:(compared to list and array)\n",
        "\n",
        "1) Allow several Mathematical operations.\n",
        "\n",
        "2) Faster Operations."
      ],
      "metadata": {
        "id": "0Tuy-ReyEEC_"
      }
    },
    {
      "cell_type": "code",
      "execution_count": 1,
      "metadata": {
        "id": "DWl5t_npD8Rh"
      },
      "outputs": [],
      "source": [
        "import numpy as np"
      ]
    },
    {
      "cell_type": "markdown",
      "source": [
        "List vs Numpy ----Time Taken"
      ],
      "metadata": {
        "id": "wu-oYlAAFHma"
      }
    },
    {
      "cell_type": "code",
      "source": [
        "# time taken to measure a particular process(how long it takes to run)\n",
        "from time import process_time"
      ],
      "metadata": {
        "id": "vViyxx_NEyZd"
      },
      "execution_count": 2,
      "outputs": []
    },
    {
      "cell_type": "code",
      "source": [
        "# TIME TAKEN BY A LIST\n",
        "python_list = [i for i in range(10000)]\n",
        "start_time=process_time()\n",
        "python_list= [i+5 for i in python_list]\n",
        "end_time=process_time()\n",
        "print(end_time-start_time)"
      ],
      "metadata": {
        "colab": {
          "base_uri": "https://localhost:8080/"
        },
        "id": "az4ZRuUYILvQ",
        "outputId": "db19c86e-b7eb-4cbd-efe4-915231e8d623"
      },
      "execution_count": 4,
      "outputs": [
        {
          "output_type": "stream",
          "name": "stdout",
          "text": [
            "0.001262988999998882\n"
          ]
        }
      ]
    },
    {
      "cell_type": "markdown",
      "source": [
        "np.array is used to create arrays."
      ],
      "metadata": {
        "id": "BLDIWiHoJSHz"
      }
    },
    {
      "cell_type": "code",
      "source": [
        "# TIME TAKEN BY NUMPY\n",
        "np_array = np.array([i for i in range(10000)])\n",
        "start_time=process_time()\n",
        "np_array +=5\n",
        "# same as np_array = np_array +5\n",
        "end_time=process_time()\n",
        "print(end_time-start_time)"
      ],
      "metadata": {
        "colab": {
          "base_uri": "https://localhost:8080/"
        },
        "id": "73FH3wHbI8TJ",
        "outputId": "d0e2c943-9e74-4550-9642-1e5e6e89e5eb"
      },
      "execution_count": 6,
      "outputs": [
        {
          "output_type": "stream",
          "name": "stdout",
          "text": [
            "0.0001638849999991976\n"
          ]
        }
      ]
    },
    {
      "cell_type": "markdown",
      "source": [
        "Numpy Arrays"
      ],
      "metadata": {
        "id": "hfZ8uCt8KI_v"
      }
    },
    {
      "cell_type": "code",
      "source": [
        "np_array = np.array([1,2,3,4,5])\n",
        "print(np_array)\n",
        "type(np_array)"
      ],
      "metadata": {
        "colab": {
          "base_uri": "https://localhost:8080/"
        },
        "id": "Pv3b82o2J2VW",
        "outputId": "18788478-7bc2-4d48-d788-f55e9bb899f3"
      },
      "execution_count": 8,
      "outputs": [
        {
          "output_type": "stream",
          "name": "stdout",
          "text": [
            "[1 2 3 4 5]\n"
          ]
        },
        {
          "output_type": "execute_result",
          "data": {
            "text/plain": [
              "numpy.ndarray"
            ]
          },
          "metadata": {},
          "execution_count": 8
        }
      ]
    },
    {
      "cell_type": "markdown",
      "source": [
        "Creating 1-dimensional Array"
      ],
      "metadata": {
        "id": "fnTG-mgqM0Sd"
      }
    },
    {
      "cell_type": "code",
      "source": [
        "a = np.array([1,2,3,4])\n",
        "print(a)"
      ],
      "metadata": {
        "colab": {
          "base_uri": "https://localhost:8080/"
        },
        "id": "8AvOQZjvMjZK",
        "outputId": "4dadbe77-fc6c-49c5-b6bd-a8042ea96aa8"
      },
      "execution_count": 9,
      "outputs": [
        {
          "output_type": "stream",
          "name": "stdout",
          "text": [
            "[1 2 3 4]\n"
          ]
        }
      ]
    },
    {
      "cell_type": "code",
      "source": [
        "a.shape"
      ],
      "metadata": {
        "colab": {
          "base_uri": "https://localhost:8080/"
        },
        "id": "3BfH36OZM6_d",
        "outputId": "49a6052e-804c-42fb-98e4-04dbba5be1a0"
      },
      "execution_count": 10,
      "outputs": [
        {
          "output_type": "execute_result",
          "data": {
            "text/plain": [
              "(4,)"
            ]
          },
          "metadata": {},
          "execution_count": 10
        }
      ]
    },
    {
      "cell_type": "markdown",
      "source": [
        "Creating 2-dimensional array"
      ],
      "metadata": {
        "id": "Ix68IgU3NjU9"
      }
    },
    {
      "cell_type": "code",
      "source": [
        "array = np.array([(1,2,3,4),(5,6,7,8)])\n",
        "print(array)"
      ],
      "metadata": {
        "colab": {
          "base_uri": "https://localhost:8080/"
        },
        "id": "2oiZq9YoNDeA",
        "outputId": "d9993ac0-6d6e-47d5-acef-37852defcdf0"
      },
      "execution_count": 12,
      "outputs": [
        {
          "output_type": "stream",
          "name": "stdout",
          "text": [
            "[[1 2 3 4]\n",
            " [5 6 7 8]]\n"
          ]
        }
      ]
    },
    {
      "cell_type": "code",
      "source": [
        "c = np.array([(1,2,3,4), (5,6,7,8)], dtype=float)\n",
        "print(c)"
      ],
      "metadata": {
        "colab": {
          "base_uri": "https://localhost:8080/"
        },
        "id": "btcOy938OSOX",
        "outputId": "f5fb6063-b489-49e5-a975-d8860216fc08"
      },
      "execution_count": 15,
      "outputs": [
        {
          "output_type": "stream",
          "name": "stdout",
          "text": [
            "[[1. 2. 3. 4.]\n",
            " [5. 6. 7. 8.]]\n"
          ]
        }
      ]
    },
    {
      "cell_type": "markdown",
      "source": [
        "Initial Placeholders in Numpy Array (in certain cases we want to initialize arrays with certain values)\n",
        "\n",
        "Such as in some cases we want all the values to be 0, 1, and so on"
      ],
      "metadata": {
        "id": "Dp_xdHedPMaw"
      }
    },
    {
      "cell_type": "code",
      "source": [
        "# create a numpy array of zeros\n",
        "# In bracket we need to mention the shape of our array\n",
        "x = np.zeros((4,5))\n",
        "print(x)"
      ],
      "metadata": {
        "colab": {
          "base_uri": "https://localhost:8080/"
        },
        "id": "lAa3CbciOjT4",
        "outputId": "a53e0371-a5aa-4c94-a286-a3b95eaa0832"
      },
      "execution_count": 19,
      "outputs": [
        {
          "output_type": "stream",
          "name": "stdout",
          "text": [
            "[[0. 0. 0. 0. 0.]\n",
            " [0. 0. 0. 0. 0.]\n",
            " [0. 0. 0. 0. 0.]\n",
            " [0. 0. 0. 0. 0.]]\n"
          ]
        }
      ]
    },
    {
      "cell_type": "code",
      "source": [
        "# create numpy array of ones\n",
        "y = np.ones((4,5))\n",
        "print(y)"
      ],
      "metadata": {
        "colab": {
          "base_uri": "https://localhost:8080/"
        },
        "id": "GHIoDhxgP5_i",
        "outputId": "4d360ad7-3a7e-44fb-f7f1-45dd1eb5e559"
      },
      "execution_count": 18,
      "outputs": [
        {
          "output_type": "stream",
          "name": "stdout",
          "text": [
            "[[1. 1. 1. 1. 1.]\n",
            " [1. 1. 1. 1. 1.]\n",
            " [1. 1. 1. 1. 1.]\n",
            " [1. 1. 1. 1. 1.]]\n"
          ]
        }
      ]
    },
    {
      "cell_type": "code",
      "source": [
        "# create array of some particular value\n",
        "# full function is used to create array of specific value\n",
        "z = np.full((4,5), 5)\n",
        "print(z)"
      ],
      "metadata": {
        "colab": {
          "base_uri": "https://localhost:8080/"
        },
        "id": "8aBX7KU8QCcs",
        "outputId": "b00fe686-0b6c-45b0-c6e2-fc92353704df"
      },
      "execution_count": 20,
      "outputs": [
        {
          "output_type": "stream",
          "name": "stdout",
          "text": [
            "[[5 5 5 5 5]\n",
            " [5 5 5 5 5]\n",
            " [5 5 5 5 5]\n",
            " [5 5 5 5 5]]\n"
          ]
        }
      ]
    },
    {
      "cell_type": "code",
      "source": [
        "# Create a identity matrix\n",
        "a = np.eye(4)\n",
        "print(a)"
      ],
      "metadata": {
        "colab": {
          "base_uri": "https://localhost:8080/"
        },
        "id": "pud9i_WeQeEV",
        "outputId": "2c5805b7-3d17-4dec-f77d-7da8a08b11a9"
      },
      "execution_count": 21,
      "outputs": [
        {
          "output_type": "stream",
          "name": "stdout",
          "text": [
            "[[1. 0. 0. 0.]\n",
            " [0. 1. 0. 0.]\n",
            " [0. 0. 1. 0.]\n",
            " [0. 0. 0. 1.]]\n"
          ]
        }
      ]
    },
    {
      "cell_type": "markdown",
      "source": [
        "Create numpy array with random values (here values are b/w 0 and 1)"
      ],
      "metadata": {
        "id": "abgo1fgndVnC"
      }
    },
    {
      "cell_type": "code",
      "source": [
        "a = np.random.random((3,4))\n",
        "print(a)"
      ],
      "metadata": {
        "colab": {
          "base_uri": "https://localhost:8080/"
        },
        "id": "AHQw0wzVdBez",
        "outputId": "37246267-ee94-4d00-b100-18ee978d57a3"
      },
      "execution_count": 24,
      "outputs": [
        {
          "output_type": "stream",
          "name": "stdout",
          "text": [
            "[[0.4261471  0.72247675 0.5984259  0.56759185]\n",
            " [0.87480694 0.48632978 0.55121613 0.59995108]\n",
            " [0.99350823 0.03847413 0.54261449 0.44860643]]\n"
          ]
        }
      ]
    },
    {
      "cell_type": "markdown",
      "source": [
        "Create numpy array with random values-----with integers and within specific range."
      ],
      "metadata": {
        "id": "HGOMS7Oydsel"
      }
    },
    {
      "cell_type": "markdown",
      "source": [],
      "metadata": {
        "id": "yKZbfgNEdsGn"
      }
    },
    {
      "cell_type": "code",
      "source": [
        "a= np.random.randint(10,100,(3,5))\n",
        "print(a)"
      ],
      "metadata": {
        "colab": {
          "base_uri": "https://localhost:8080/"
        },
        "id": "gdZS1Mh3dhqL",
        "outputId": "f84c2ff4-851c-433e-ec11-6d0bc762ec40"
      },
      "execution_count": 25,
      "outputs": [
        {
          "output_type": "stream",
          "name": "stdout",
          "text": [
            "[[76 26 74 62 74]\n",
            " [97 35 62 92 62]\n",
            " [21 88 69 98 25]]\n"
          ]
        }
      ]
    },
    {
      "cell_type": "markdown",
      "source": [
        "Array of evenly spaced values."
      ],
      "metadata": {
        "id": "0h47MCtFgJUw"
      }
    },
    {
      "cell_type": "code",
      "source": [
        "d = np.linspace(10,30,2)\n",
        "print(d)"
      ],
      "metadata": {
        "colab": {
          "base_uri": "https://localhost:8080/",
          "height": 164
        },
        "id": "68Lw59VZgRdM",
        "outputId": "f4d2d8c9-0878-4494-9221-e125561baa1d"
      },
      "execution_count": 33,
      "outputs": [
        {
          "output_type": "error",
          "ename": "AttributeError",
          "evalue": "'numpy.ndarray' object has no attribute 'linspace'",
          "traceback": [
            "\u001b[0;31m---------------------------------------------------------------------------\u001b[0m",
            "\u001b[0;31mAttributeError\u001b[0m                            Traceback (most recent call last)",
            "\u001b[0;32m<ipython-input-33-8313b943f23c>\u001b[0m in \u001b[0;36m<cell line: 1>\u001b[0;34m()\u001b[0m\n\u001b[0;32m----> 1\u001b[0;31m \u001b[0md\u001b[0m \u001b[0;34m=\u001b[0m \u001b[0mnp\u001b[0m\u001b[0;34m.\u001b[0m\u001b[0mlinspace\u001b[0m\u001b[0;34m(\u001b[0m\u001b[0;36m10\u001b[0m\u001b[0;34m,\u001b[0m\u001b[0;36m30\u001b[0m\u001b[0;34m,\u001b[0m\u001b[0;36m2\u001b[0m\u001b[0;34m)\u001b[0m\u001b[0;34m\u001b[0m\u001b[0;34m\u001b[0m\u001b[0m\n\u001b[0m\u001b[1;32m      2\u001b[0m \u001b[0mprint\u001b[0m\u001b[0;34m(\u001b[0m\u001b[0md\u001b[0m\u001b[0;34m)\u001b[0m\u001b[0;34m\u001b[0m\u001b[0;34m\u001b[0m\u001b[0m\n",
            "\u001b[0;31mAttributeError\u001b[0m: 'numpy.ndarray' object has no attribute 'linspace'"
          ]
        }
      ]
    },
    {
      "cell_type": "markdown",
      "source": [
        "occurs because linspace is being called on an ndarray object instead of the numpy module. This happens when you've redefined or overwritten np with a NumPy array, so np is no longer the numpy module.\n",
        "\n"
      ],
      "metadata": {
        "id": "BwmNYRIYiQWf"
      }
    },
    {
      "cell_type": "code",
      "source": [
        "import numpy as np\n",
        "np = np.linspace(10,30,2)\n",
        "print(np)"
      ],
      "metadata": {
        "colab": {
          "base_uri": "https://localhost:8080/"
        },
        "id": "wWmlKr0yiBm2",
        "outputId": "875eb78b-a95f-4f3a-fbdc-f02ae6ae807c"
      },
      "execution_count": 34,
      "outputs": [
        {
          "output_type": "stream",
          "name": "stdout",
          "text": [
            "[10. 30.]\n"
          ]
        }
      ]
    },
    {
      "cell_type": "markdown",
      "source": [
        "Another Way----specifying step number\n"
      ],
      "metadata": {
        "id": "f5Iyc3NbmR7t"
      }
    },
    {
      "cell_type": "code",
      "source": [
        "import numpy as np\n",
        "e = np.arange(10,30,5)\n",
        "print(e)"
      ],
      "metadata": {
        "colab": {
          "base_uri": "https://localhost:8080/"
        },
        "id": "9yrBzyKGifp5",
        "outputId": "fc5e7b39-9dfb-4cae-acb3-c8d43ce1b913"
      },
      "execution_count": 36,
      "outputs": [
        {
          "output_type": "stream",
          "name": "stdout",
          "text": [
            "[10 15 20 25]\n"
          ]
        }
      ]
    },
    {
      "cell_type": "markdown",
      "source": [
        "Converting list into numpy array.....works with list, tuple, nested sequence, pandas, series, etc"
      ],
      "metadata": {
        "id": "NGD7wx_CnOnU"
      }
    },
    {
      "cell_type": "code",
      "source": [
        "list2 = [1,3,44,56,77]\n",
        "# Convert particular data type into numpy array\n",
        "np_array = np.asarray(list2)\n",
        "print(np_array)"
      ],
      "metadata": {
        "colab": {
          "base_uri": "https://localhost:8080/"
        },
        "id": "whJfGtoZmfmO",
        "outputId": "85abedc8-c968-4e01-bcf8-3661fc167b29"
      },
      "execution_count": 37,
      "outputs": [
        {
          "output_type": "stream",
          "name": "stdout",
          "text": [
            "[ 1  3 44 56 77]\n"
          ]
        }
      ]
    },
    {
      "cell_type": "markdown",
      "source": [
        "Analyzing numpy array (getting various information from it)"
      ],
      "metadata": {
        "id": "adhxkM2aotK5"
      }
    },
    {
      "cell_type": "code",
      "source": [
        "c = np.random.randint(10,90,(5,5))\n",
        "print(c)"
      ],
      "metadata": {
        "colab": {
          "base_uri": "https://localhost:8080/"
        },
        "id": "kJ7-4GLHnhGw",
        "outputId": "5b33ad80-8b60-4957-a849-3ab097ef88d5"
      },
      "execution_count": 38,
      "outputs": [
        {
          "output_type": "stream",
          "name": "stdout",
          "text": [
            "[[61 11 62 22 45]\n",
            " [32 31 25 89 52]\n",
            " [18 20 76 43 30]\n",
            " [14 86 53 17 87]\n",
            " [49 26 34 28 82]]\n"
          ]
        }
      ]
    },
    {
      "cell_type": "code",
      "source": [
        "# ARRAY DIMENSION\n",
        "print(c.shape)"
      ],
      "metadata": {
        "colab": {
          "base_uri": "https://localhost:8080/"
        },
        "id": "K5zG8Creo9KY",
        "outputId": "9d7a72a5-aa34-45ac-e1ea-b8049a546c37"
      },
      "execution_count": 39,
      "outputs": [
        {
          "output_type": "stream",
          "name": "stdout",
          "text": [
            "(5, 5)\n"
          ]
        }
      ]
    },
    {
      "cell_type": "code",
      "source": [
        "# NUMBER OF DIMENSIONS\n",
        "print(c.ndim)"
      ],
      "metadata": {
        "colab": {
          "base_uri": "https://localhost:8080/"
        },
        "id": "fExABmBepQ7X",
        "outputId": "3fe34b27-fc05-4957-af88-9aa4636a6791"
      },
      "execution_count": 40,
      "outputs": [
        {
          "output_type": "stream",
          "name": "stdout",
          "text": [
            "2\n"
          ]
        }
      ]
    },
    {
      "cell_type": "code",
      "source": [
        "# NUMBER OF ELEMENTS IN AN ARRAY\n",
        "print(c.size)"
      ],
      "metadata": {
        "colab": {
          "base_uri": "https://localhost:8080/"
        },
        "id": "Kw9GZyI0qlaw",
        "outputId": "74b6e23e-3f63-436b-cf72-c5e27ffa65b2"
      },
      "execution_count": 41,
      "outputs": [
        {
          "output_type": "stream",
          "name": "stdout",
          "text": [
            "25\n"
          ]
        }
      ]
    },
    {
      "cell_type": "code",
      "source": [
        "import numpy as np"
      ],
      "metadata": {
        "id": "h8VsYrZxsRkE"
      },
      "execution_count": 43,
      "outputs": []
    },
    {
      "cell_type": "code",
      "source": [
        "# CHECKING VALUES OF THE DATA TYPE INSIDE THE ARRAY\n",
        "print(c.dtype)"
      ],
      "metadata": {
        "colab": {
          "base_uri": "https://localhost:8080/"
        },
        "id": "CAyx01AXqqVE",
        "outputId": "f3ed0816-bfab-4b0e-c77b-f90c5f809dd8"
      },
      "execution_count": 45,
      "outputs": [
        {
          "output_type": "stream",
          "name": "stdout",
          "text": [
            "int64\n"
          ]
        }
      ]
    },
    {
      "cell_type": "markdown",
      "source": [
        "Mathematical Operations on np array"
      ],
      "metadata": {
        "id": "ESFgJQaQsgkl"
      }
    },
    {
      "cell_type": "code",
      "source": [
        "list1 = [1,2,3,4]\n",
        "list2 = [4,5,6,7,10]\n",
        "print(list1+list2)\n",
        "# HERE BOTH LIST ARE GETTING COMBINED, BUT ADDITION IS NOT HAPPENING.(CONCATE)\n"
      ],
      "metadata": {
        "colab": {
          "base_uri": "https://localhost:8080/"
        },
        "id": "hDJ_l-7asOaV",
        "outputId": "2ef78308-efe9-4db1-ea4c-9316852e7e1b"
      },
      "execution_count": 46,
      "outputs": [
        {
          "output_type": "stream",
          "name": "stdout",
          "text": [
            "[1, 2, 3, 4, 4, 5, 6, 7, 10]\n"
          ]
        }
      ]
    },
    {
      "cell_type": "code",
      "source": [
        "a=np.random.randint(0,10,(3,3))\n",
        "b=np.random.randint(10,20,(3,3))\n"
      ],
      "metadata": {
        "id": "wVAWc0Hvs5zy"
      },
      "execution_count": 47,
      "outputs": []
    },
    {
      "cell_type": "code",
      "source": [
        "print(a)\n",
        "print(b)"
      ],
      "metadata": {
        "colab": {
          "base_uri": "https://localhost:8080/"
        },
        "id": "XPjagNpjtbRQ",
        "outputId": "cb532f07-cb44-4ad5-dd53-0e0eb70adab1"
      },
      "execution_count": 48,
      "outputs": [
        {
          "output_type": "stream",
          "name": "stdout",
          "text": [
            "[[7 0 9]\n",
            " [0 5 9]\n",
            " [0 5 2]]\n",
            "[[16 10 17]\n",
            " [18 15 10]\n",
            " [11 17 15]]\n"
          ]
        }
      ]
    },
    {
      "cell_type": "code",
      "source": [
        "print(a+b)\n",
        "# HERE WE ARE GETTING ADDITION OF NUMBERS"
      ],
      "metadata": {
        "colab": {
          "base_uri": "https://localhost:8080/"
        },
        "id": "RGiRGeGFtfhE",
        "outputId": "7503e957-0793-4c8e-81c5-29253e0720eb"
      },
      "execution_count": 49,
      "outputs": [
        {
          "output_type": "stream",
          "name": "stdout",
          "text": [
            "[[23 10 26]\n",
            " [18 20 19]\n",
            " [11 22 17]]\n"
          ]
        }
      ]
    },
    {
      "cell_type": "code",
      "source": [
        "print(np.add(a,b))"
      ],
      "metadata": {
        "colab": {
          "base_uri": "https://localhost:8080/"
        },
        "id": "SsmpsFBIthqT",
        "outputId": "25ae7204-6b56-4664-964e-0795ddad7dab"
      },
      "execution_count": 50,
      "outputs": [
        {
          "output_type": "stream",
          "name": "stdout",
          "text": [
            "[[23 10 26]\n",
            " [18 20 19]\n",
            " [11 22 17]]\n"
          ]
        }
      ]
    },
    {
      "cell_type": "markdown",
      "source": [
        "ARRAY MANIPULATION"
      ],
      "metadata": {
        "id": "aR8HVPWOuLty"
      }
    },
    {
      "cell_type": "code",
      "source": [
        "array = np.random.randint(10,30,(3,3))\n",
        "print(array)"
      ],
      "metadata": {
        "colab": {
          "base_uri": "https://localhost:8080/"
        },
        "id": "BDqB_zj-tygl",
        "outputId": "daab3663-1e7c-4b52-f4af-d5c219a5623a"
      },
      "execution_count": 52,
      "outputs": [
        {
          "output_type": "stream",
          "name": "stdout",
          "text": [
            "[[28 25 19]\n",
            " [15 13 24]\n",
            " [11 23 23]]\n"
          ]
        }
      ]
    },
    {
      "cell_type": "code",
      "source": [
        "# CREATE A TRANSPOSE OF THIS MATRIX\n",
        "trans = np.transpose(array)\n",
        "print(trans)\n",
        "print(trans.shape)"
      ],
      "metadata": {
        "colab": {
          "base_uri": "https://localhost:8080/"
        },
        "id": "AT7uCDsxuueC",
        "outputId": "e5156a0f-bfad-4366-8e91-3480694327fa"
      },
      "execution_count": 54,
      "outputs": [
        {
          "output_type": "stream",
          "name": "stdout",
          "text": [
            "[[28 15 11]\n",
            " [25 13 23]\n",
            " [19 24 23]]\n",
            "(3, 3)\n"
          ]
        }
      ]
    },
    {
      "cell_type": "code",
      "source": [
        "# array=array_name\n",
        "trans2 = array.T\n",
        "print(trans2)"
      ],
      "metadata": {
        "colab": {
          "base_uri": "https://localhost:8080/"
        },
        "id": "dXg2nff_u5BI",
        "outputId": "c86dc3ce-d6d3-469f-c2d7-d9d6761aff05"
      },
      "execution_count": 55,
      "outputs": [
        {
          "output_type": "stream",
          "name": "stdout",
          "text": [
            "[[28 15 11]\n",
            " [25 13 23]\n",
            " [19 24 23]]\n"
          ]
        }
      ]
    },
    {
      "cell_type": "markdown",
      "source": [
        "RESHAPING ARRAY"
      ],
      "metadata": {
        "id": "VH31oWOQv_Ra"
      }
    },
    {
      "cell_type": "code",
      "source": [
        "a = np.random.randint(10,30,(3,2))\n",
        "print(a)"
      ],
      "metadata": {
        "colab": {
          "base_uri": "https://localhost:8080/"
        },
        "id": "MmDO1xFwvtrv",
        "outputId": "f9e9d064-4fe0-4e17-b92c-c9c83ae81b84"
      },
      "execution_count": 56,
      "outputs": [
        {
          "output_type": "stream",
          "name": "stdout",
          "text": [
            "[[16 23]\n",
            " [21 27]\n",
            " [29 28]]\n"
          ]
        }
      ]
    },
    {
      "cell_type": "code",
      "source": [
        "b = a.reshape(2,3)\n",
        "print(b)"
      ],
      "metadata": {
        "colab": {
          "base_uri": "https://localhost:8080/"
        },
        "id": "X1XXABI0wPIQ",
        "outputId": "8189f1f0-04fa-4ca3-ec8c-97f232c2bc71"
      },
      "execution_count": 57,
      "outputs": [
        {
          "output_type": "stream",
          "name": "stdout",
          "text": [
            "[[16 23 21]\n",
            " [27 29 28]]\n"
          ]
        }
      ]
    },
    {
      "cell_type": "code",
      "source": [],
      "metadata": {
        "id": "BBLJE3fCwu24"
      },
      "execution_count": null,
      "outputs": []
    }
  ]
}